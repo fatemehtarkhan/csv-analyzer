{
 "cells": [
  {
   "cell_type": "code",
   "execution_count": 1,
   "id": "dc7571f3-aa46-4555-b233-7598e0791ffd",
   "metadata": {},
   "outputs": [],
   "source": [
    "# Here  we  are ;P"
   ]
  },
  {
   "cell_type": "code",
   "execution_count": null,
   "id": "e99171bc-ba9c-4f9d-b3fc-9b55c8802f9e",
   "metadata": {},
   "outputs": [],
   "source": []
  }
 ],
 "metadata": {
  "kernelspec": {
   "display_name": "Python 3 (ipykernel)",
   "language": "python",
   "name": "python3"
  },
  "language_info": {
   "codemirror_mode": {
    "name": "ipython",
    "version": 3
   },
   "file_extension": ".py",
   "mimetype": "text/x-python",
   "name": "python",
   "nbconvert_exporter": "python",
   "pygments_lexer": "ipython3",
   "version": "3.12.7"
  }
 },
 "nbformat": 4,
 "nbformat_minor": 5
}
